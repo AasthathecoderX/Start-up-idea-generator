{
  "nbformat": 4,
  "nbformat_minor": 0,
  "metadata": {
    "colab": {
      "provenance": [],
      "authorship_tag": "ABX9TyP/+r/x3Ys8Qk6qa1JOfLh5",
      "include_colab_link": true
    },
    "kernelspec": {
      "name": "python3",
      "display_name": "Python 3"
    },
    "language_info": {
      "name": "python"
    }
  },
  "cells": [
    {
      "cell_type": "markdown",
      "metadata": {
        "id": "view-in-github",
        "colab_type": "text"
      },
      "source": [
        "<a href=\"https://colab.research.google.com/github/AasthathecoderX/Start-up-idea-generator/blob/main/Idea_Generator.ipynb\" target=\"_parent\"><img src=\"https://colab.research.google.com/assets/colab-badge.svg\" alt=\"Open In Colab\"/></a>"
      ]
    },
    {
      "cell_type": "code",
      "execution_count": null,
      "metadata": {
        "id": "hFxAZ-LjSLqg"
      },
      "outputs": [],
      "source": [
        "#torch is a library\n",
        "!pip install -q transformers gradio torch accelerate\n"
      ]
    },
    {
      "cell_type": "code",
      "source": [
        "#Import +load model\n",
        "\n",
        "from transformers import pipeline\n",
        "import gradio as gr\n",
        "\n",
        "generator=pipeline('text2text-generation',model='MBZUAI/LaMini-Flan-T5-783M',\n",
        "                   device_map=\"auto\")"
      ],
      "metadata": {
        "collapsed": true,
        "id": "RQi5ObRpU7gC"
      },
      "execution_count": null,
      "outputs": []
    },
    {
      "cell_type": "code",
      "source": [
        "#Function\n",
        "\n",
        "def generate_idea(domain):\n",
        "  if not domain or not domain.strip():\n",
        "    return \"Please provide a domain(eg:Agritech,Finetech,etc)\"\n",
        "  prompt=f\"\"\"Generate a startup pitch for the domain {domain},\n",
        "           Include the following sections :\n",
        "           1)Buisness Idea(2-3 sentences)\n",
        "           2)Problem statement (explain the challeneges clearly)\n",
        "           3)Solution (Explain how startup solves it)\n",
        "  \"\"\"\n",
        "\n",
        "  result=generator(prompt,\n",
        "                   max_new_tokens=400,\n",
        "                   temperature=0.8, #More the temperature more randomness of the creativity\n",
        "                   do_sample=True)\n",
        "  return result[0]['generated_text']\n"
      ],
      "metadata": {
        "id": "4OT0Uf69VOcW"
      },
      "execution_count": null,
      "outputs": []
    },
    {
      "cell_type": "code",
      "source": [
        "#Gradio UI\n",
        "demo=gr.Interface(\n",
        "    fn=generate_idea,\n",
        "    inputs=gr.Textbox(label=\"Domain by Interest\",placeholder=\"eg.,Agriculture\"),\n",
        "    outputs=\"text\",\n",
        "    title=\"Startup idea + Pitch Generator\",\n",
        "    description=\"Enter a domain (Agritech,Fintech etc) and get a startup pitch with Problem and solution \"\n",
        ")\n",
        "\n",
        "demo.launch(share=True)"
      ],
      "metadata": {
        "id": "Ti4g8g2DcnUj"
      },
      "execution_count": null,
      "outputs": []
    },
    {
      "cell_type": "code",
      "source": [],
      "metadata": {
        "id": "AnPaJdnVi33J"
      },
      "execution_count": null,
      "outputs": []
    }
  ]
}